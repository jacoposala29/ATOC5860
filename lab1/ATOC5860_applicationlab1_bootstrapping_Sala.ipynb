{
 "cells": [
  {
   "cell_type": "markdown",
   "metadata": {},
   "source": [
    "# Applications Lab #1-- ATOC5860 Objective Analysis - bootstrapping"
   ]
  },
  {
   "cell_type": "code",
   "execution_count": 1,
   "metadata": {},
   "outputs": [],
   "source": [
    "##### Originally coded by Prof. Kay (CU) with input from Vineel Yettella (CU ATOC Ph.D. 2018)\n",
    "##### last updated September 2, 2020\n",
    "\n",
    "###LEARNING GOALS:\n",
    "###1) Working in an ipython notebook: read in csv file, make histogram plot\n",
    "###2) Assessing statistical significance using bootstrapping (and t-test)\n",
    "\n",
    "### GENERAL SETUP\n",
    "%matplotlib inline  \n",
    "# this enables plotting within notebook\n",
    "\n",
    "import matplotlib   # library for plotting\n",
    "import matplotlib.pyplot as plt #  later you will type plt.$COMMAND\n",
    "import numpy as np   # basic math library  you will type np.$STUFF  e.g., np.cos(1)\n",
    "import pandas as pd  # library for data analysis for text files (everything but netcdf files)\n",
    "import scipy.stats as stats # imports stats functions https://docs.scipy.org/doc/scipy/reference/stats.html "
   ]
  },
  {
   "cell_type": "code",
   "execution_count": 2,
   "metadata": {},
   "outputs": [
    {
     "data": {
      "text/html": [
       "<div>\n",
       "<style scoped>\n",
       "    .dataframe tbody tr th:only-of-type {\n",
       "        vertical-align: middle;\n",
       "    }\n",
       "\n",
       "    .dataframe tbody tr th {\n",
       "        vertical-align: top;\n",
       "    }\n",
       "\n",
       "    .dataframe thead th {\n",
       "        text-align: right;\n",
       "    }\n",
       "</style>\n",
       "<table border=\"1\" class=\"dataframe\">\n",
       "  <thead>\n",
       "    <tr style=\"text-align: right;\">\n",
       "      <th></th>\n",
       "      <th>Year</th>\n",
       "      <th>LovelandPass_April1SWE_inches</th>\n",
       "      <th>Nino34_anomaly_prevDec</th>\n",
       "    </tr>\n",
       "  </thead>\n",
       "  <tbody>\n",
       "    <tr>\n",
       "      <th>0</th>\n",
       "      <td>1936</td>\n",
       "      <td>15.8</td>\n",
       "      <td>-0.04</td>\n",
       "    </tr>\n",
       "    <tr>\n",
       "      <th>1</th>\n",
       "      <td>1937</td>\n",
       "      <td>10.1</td>\n",
       "      <td>0.63</td>\n",
       "    </tr>\n",
       "    <tr>\n",
       "      <th>2</th>\n",
       "      <td>1938</td>\n",
       "      <td>12.1</td>\n",
       "      <td>0.22</td>\n",
       "    </tr>\n",
       "    <tr>\n",
       "      <th>3</th>\n",
       "      <td>1939</td>\n",
       "      <td>18.2</td>\n",
       "      <td>-0.79</td>\n",
       "    </tr>\n",
       "    <tr>\n",
       "      <th>4</th>\n",
       "      <td>1940</td>\n",
       "      <td>10.0</td>\n",
       "      <td>0.05</td>\n",
       "    </tr>\n",
       "  </tbody>\n",
       "</table>\n",
       "</div>"
      ],
      "text/plain": [
       "   Year  LovelandPass_April1SWE_inches  Nino34_anomaly_prevDec\n",
       "0  1936                           15.8                   -0.04\n",
       "1  1937                           10.1                    0.63\n",
       "2  1938                           12.1                    0.22\n",
       "3  1939                           18.2                   -0.79\n",
       "4  1940                           10.0                    0.05"
      ]
     },
     "execution_count": 2,
     "metadata": {},
     "output_type": "execute_result"
    }
   ],
   "source": [
    "### Read in the data\n",
    "filename='snow_enso_data.csv'\n",
    "data=pd.read_csv(filename,sep=',')\n",
    "data.head()"
   ]
  },
  {
   "cell_type": "markdown",
   "metadata": {},
   "source": [
    "### Print the data column names"
   ]
  },
  {
   "cell_type": "code",
   "execution_count": 3,
   "metadata": {},
   "outputs": [
    {
     "name": "stdout",
     "output_type": "stream",
     "text": [
      "Year\n",
      "LovelandPass_April1SWE_inches\n",
      "Nino34_anomaly_prevDec\n"
     ]
    }
   ],
   "source": [
    "print(data.columns[0])\n",
    "print(data.columns[1])\n",
    "print(data.columns[2])"
   ]
  },
  {
   "cell_type": "markdown",
   "metadata": {},
   "source": [
    "### Print the data values - LOOK AT YOUR DATA.  If new to Python - check out what happens when you remove .values."
   ]
  },
  {
   "cell_type": "code",
   "execution_count": 4,
   "metadata": {},
   "outputs": [
    {
     "name": "stdout",
     "output_type": "stream",
     "text": [
      "[1936 1937 1938 1939 1940 1941 1942 1943 1944 1945 1946 1947 1948 1949\n",
      " 1950 1951 1952 1953 1954 1955 1956 1957 1958 1959 1960 1961 1962 1963\n",
      " 1964 1965 1966 1967 1968 1969 1970 1971 1972 1973 1974 1975 1976 1977\n",
      " 1978 1979 1980 1981 1982 1983 1984 1985 1986 1987 1988 1989 1990 1991\n",
      " 1992 1993 1994 1995 1996 1997 1998 1999 2000 2001 2002 2003 2004 2005\n",
      " 2006 2007 2008 2009 2010 2011 2012 2013 2014 2015 2016]\n",
      "[15.8 10.1 12.1 18.2 10.   9.9 13.9 17.9 11.4 13.3 11.4 17.4 14.  14.\n",
      " 14.  19.  24.  17.3 11.2 13.5 21.2 17.5 14.9 18.7 16.4 15.3 19.2 12.\n",
      " 12.7 19.9  6.3 14.6 16.1 14.2 20.7 19.  16.2 12.  18.8 19.6 15.1 11.\n",
      " 22.1 16.7 20.   9.  19.8 15.5 18.  12.3 18.2 11.3 15.9 12.1 13.8 13.2\n",
      " 14.2 21.8 17.8 17.2 28.7 22.6 17.2 16.5 19.6 17.2 10.  19.9 13.1 15.6\n",
      " 22.4 19.7 21.2 21.6 14.3 27.3 12.8 14.9 24.4 16.4 19. ]\n",
      "[-0.04  0.63  0.22 -0.79  0.05  1.39  1.27 -1.24 -0.42 -0.26 -0.54  0.03\n",
      "  0.18  0.38 -1.2  -1.04  0.71 -0.55  0.15 -0.79 -1.52 -0.58  1.18  0.3\n",
      " -0.05  0.02 -0.29 -0.49  1.05 -1.07  1.45 -0.26 -0.35  0.76  0.68 -1.11\n",
      " -0.89  2.19 -2.18 -0.86 -1.64  0.64  1.09  0.07  0.69  0.36  0.07  2.33\n",
      " -0.95 -1.53 -0.4   0.98  1.05 -1.98 -0.13  0.32  1.62  0.04  0.19  1.21\n",
      " -0.72 -0.43  2.3  -1.51 -1.54 -0.92 -0.46  1.41  0.32  0.71 -0.75  1.1\n",
      " -1.61 -0.9   1.81 -1.63 -1.05 -0.13 -0.09  0.77  2.56]\n"
     ]
    }
   ],
   "source": [
    "print(data['Year'].values)\n",
    "print(data['LovelandPass_April1SWE_inches'].values)\n",
    "print(data['Nino34_anomaly_prevDec'].values)"
   ]
  },
  {
   "cell_type": "markdown",
   "metadata": {},
   "source": [
    "### Calculate the average snowfall on April 1 at Loveland Pass, Colorado"
   ]
  },
  {
   "cell_type": "code",
   "execution_count": 5,
   "metadata": {},
   "outputs": [
    {
     "name": "stdout",
     "output_type": "stream",
     "text": [
      "Average SWE (inches): 16.33\n",
      "Standard Deviation SWE (inches): 4.22\n",
      "N: 81\n"
     ]
    }
   ],
   "source": [
    "SWE_avg=data['LovelandPass_April1SWE_inches'].mean()\n",
    "SWE_std=data['LovelandPass_April1SWE_inches'].std()\n",
    "N_SWE=len(data.LovelandPass_April1SWE_inches)\n",
    "print('Average SWE (inches):',np.str(np.round(SWE_avg,2)))\n",
    "print('Standard Deviation SWE (inches):',np.str(np.round(SWE_std,2)))\n",
    "print('N:',np.str(N_SWE))"
   ]
  },
  {
   "cell_type": "markdown",
   "metadata": {},
   "source": [
    "### Calculate the average SWE when it was an El Nino year"
   ]
  },
  {
   "cell_type": "code",
   "execution_count": 6,
   "metadata": {},
   "outputs": [
    {
     "name": "stdout",
     "output_type": "stream",
     "text": [
      "Average SWE El Nino (inches): 15.29\n",
      "Standard Deviation SWE El Nino (inches): 4.0\n",
      "N El Nino: 16\n"
     ]
    }
   ],
   "source": [
    "### Print to figure out how to condition and make sure it is working.  Check out if new to Python.\n",
    "#print(data.Nino34_anomaly_prevDec>1) ## this gives True/False\n",
    "#print(data[data.Nino34_anomaly_prevDec>1])  ## where it is True, values will print\n",
    "\n",
    "SWE_avg_nino=data[data.Nino34_anomaly_prevDec>1.0]['LovelandPass_April1SWE_inches'].mean()\n",
    "SWE_std_nino=data[data.Nino34_anomaly_prevDec>1.0]['LovelandPass_April1SWE_inches'].std()\n",
    "N_SWE_nino=len(data[data.Nino34_anomaly_prevDec>1.0].LovelandPass_April1SWE_inches)\n",
    "print('Average SWE El Nino (inches):',np.str(np.round(SWE_avg_nino,2)))\n",
    "print('Standard Deviation SWE El Nino (inches):',np.str(np.round(SWE_std_nino,2)))\n",
    "print('N El Nino:',np.str(N_SWE_nino))"
   ]
  },
  {
   "cell_type": "markdown",
   "metadata": {},
   "source": [
    "### Calculate the average SWE when it was an La Nina year"
   ]
  },
  {
   "cell_type": "code",
   "execution_count": 7,
   "metadata": {},
   "outputs": [
    {
     "name": "stdout",
     "output_type": "stream",
     "text": [
      "Average SWE La Nina (inches): 17.78\n",
      "Standard Deviation SWE La Nina (inches): 4.11\n",
      "N El Nino: 15\n"
     ]
    }
   ],
   "source": [
    "SWE_avg_nina=data[data.Nino34_anomaly_prevDec<-1.0]['LovelandPass_April1SWE_inches'].mean()\n",
    "SWE_std_nina=data[data.Nino34_anomaly_prevDec<-1.0]['LovelandPass_April1SWE_inches'].std()\n",
    "N_SWE_nina=len(data[data.Nino34_anomaly_prevDec<-1.0].LovelandPass_April1SWE_inches)\n",
    "print('Average SWE La Nina (inches):',np.str(np.round(SWE_avg_nina,2)))\n",
    "print('Standard Deviation SWE La Nina (inches):',np.str(np.round(SWE_std_nina,2)))\n",
    "print('N El Nino:',np.str(N_SWE_nina))"
   ]
  },
  {
   "cell_type": "markdown",
   "metadata": {},
   "source": [
    "### Bootstrap!!  "
   ]
  },
  {
   "cell_type": "markdown",
   "metadata": {},
   "source": [
    "#### Generate random samples of size N_SWE_nino and N_SWE_nina.  Do it once to see if it works."
   ]
  },
  {
   "cell_type": "code",
   "execution_count": 8,
   "metadata": {},
   "outputs": [
    {
     "name": "stdout",
     "output_type": "stream",
     "text": [
      "[12.8 22.4 13.5  6.3 11.3 19.  14.9 13.8 12.8 11.2 21.2 18.2 11.3 27.3\n",
      " 10.1 22.4]\n"
     ]
    }
   ],
   "source": [
    "P_random=np.random.choice(data.LovelandPass_April1SWE_inches,N_SWE_nino)\n",
    "print(P_random)  ## LOOK AT YOUR DATA"
   ]
  },
  {
   "cell_type": "markdown",
   "metadata": {},
   "source": [
    "#### Now Bootstrap Nbs times to generate a distribution of randomly selected mean SWE."
   ]
  },
  {
   "cell_type": "code",
   "execution_count": 9,
   "metadata": {},
   "outputs": [
    {
     "name": "stdout",
     "output_type": "stream",
     "text": [
      "1000\n",
      "(1000,)\n",
      "16.33213125\n",
      "1.0337501345034676\n",
      "12.30625\n",
      "19.862499999999997\n"
     ]
    }
   ],
   "source": [
    "Nbs=1000\n",
    "## initialize array\n",
    "P_Bootstrap=np.empty((Nbs,N_SWE_nino))\n",
    "## loop over to fill in array with randomly selected values\n",
    "for ii in range(Nbs):\n",
    "    P_Bootstrap[ii,:]=np.random.choice(data.LovelandPass_April1SWE_inches,N_SWE_nino)\n",
    "\n",
    "## Calculate the means of your randomly selected SWE values.\n",
    "P_Bootstrap_mean=np.mean(P_Bootstrap,axis=1)\n",
    "print(len(P_Bootstrap_mean))  ## check length to see if you averaged across the correct axis\n",
    "print(np.shape(P_Bootstrap_mean)) ## another option to look at the dimensions of a variable\n",
    "\n",
    "P_Bootstrap_mean_avg=np.mean(P_Bootstrap_mean)\n",
    "print(P_Bootstrap_mean_avg)\n",
    "P_Bootstrap_mean_std=np.std(P_Bootstrap_mean)\n",
    "print(P_Bootstrap_mean_std)\n",
    "P_Bootstrap_mean_min=np.min(P_Bootstrap_mean)\n",
    "print(P_Bootstrap_mean_min)\n",
    "P_Bootstrap_mean_max=np.max(P_Bootstrap_mean)\n",
    "print(P_Bootstrap_mean_max)"
   ]
  },
  {
   "cell_type": "code",
   "execution_count": 13,
   "metadata": {},
   "outputs": [
    {
     "name": "stdout",
     "output_type": "stream",
     "text": [
      "1000\n",
      "(1000,)\n",
      "16.338337499999998\n",
      "1.0498601849621454\n",
      "13.43125\n",
      "20.7625\n"
     ]
    }
   ],
   "source": [
    "Nbs=1000\n",
    "## initialize array\n",
    "P_Bootstrap=np.empty((Nbs,N_SWE_nino))\n",
    "## loop over to fill in array with randomly selected values\n",
    "for ii in range(Nbs):\n",
    "    P_Bootstrap[ii,:]=np.random.choice(data.LovelandPass_April1SWE_inches,N_SWE_nino)\n",
    "\n",
    "## Calculate the means of your randomly selected SWE values.\n",
    "P_Bootstrap_mean=np.mean(P_Bootstrap,axis=1)\n",
    "print(len(P_Bootstrap_mean))  ## check length to see if you averaged across the correct axis\n",
    "print(np.shape(P_Bootstrap_mean)) ## another option to look at the dimensions of a variable\n",
    "\n",
    "P_Bootstrap_mean_avg=np.mean(P_Bootstrap_mean)\n",
    "print(P_Bootstrap_mean_avg)\n",
    "P_Bootstrap_mean_std=np.std(P_Bootstrap_mean)\n",
    "print(P_Bootstrap_mean_std)\n",
    "P_Bootstrap_mean_min=np.min(P_Bootstrap_mean)\n",
    "print(P_Bootstrap_mean_min)\n",
    "P_Bootstrap_mean_max=np.max(P_Bootstrap_mean)\n",
    "print(P_Bootstrap_mean_max)"
   ]
  },
  {
   "cell_type": "markdown",
   "metadata": {},
   "source": [
    "### Use matplotlib to plot a histogram of the bootstrapped means to compare to the conditioned SWE mean"
   ]
  },
  {
   "cell_type": "code",
   "execution_count": 16,
   "metadata": {},
   "outputs": [
    {
     "data": {
      "image/png": "[encoded data removed]",
      "text/plain": [
       "<Figure size 432x288 with 1 Axes>"
      ]
     },
     "metadata": {
      "needs_background": "light"
     },
     "output_type": "display_data"
    }
   ],
   "source": [
    "binsize=0.1\n",
    "min4hist=np.round(np.min(P_Bootstrap_mean),1)-binsize\n",
    "max4hist=np.round(np.max(P_Bootstrap_mean),1)+binsize\n",
    "nbins=int((max4hist-min4hist)/binsize)\n",
    "\n",
    "plt.hist(P_Bootstrap_mean,nbins,edgecolor='black')\n",
    "plt.xlabel('Mean SWE (inches)');\n",
    "plt.ylabel('Count');\n",
    "plt.title('Bootstrapped Randomly Selected Mean SWE Values');"
   ]
  },
  {
   "cell_type": "code",
   "execution_count": 17,
   "metadata": {},
   "outputs": [
    {
     "name": "stdout",
     "output_type": "stream",
     "text": [
      "sample_mean - El Nino:  15.29\n",
      "population_mean:  16.34\n",
      "population_std:  1.05\n",
      "Z-statistic (number of standard errors that the sample mean deviates from the population mean:\n",
      "-0.99\n",
      "Probability one-tailed test (percent):\n",
      "15.99\n"
     ]
    }
   ],
   "source": [
    "## What is the probability that the snowfall was lower during El Nino by chance?\n",
    "## Using Barnes equation (83) on page 15 to calculate probability using z-statistic\n",
    "sample_mean=SWE_avg_nino\n",
    "sample_N=1\n",
    "population_mean=np.mean(P_Bootstrap_mean)\n",
    "population_std=np.std(P_Bootstrap_mean)\n",
    "xstd=population_std/np.sqrt(sample_N)\n",
    "z_nino=(sample_mean-population_mean)/xstd\n",
    "print(\"sample_mean - El Nino: \",np.str(np.round(sample_mean,2)))\n",
    "print(\"population_mean: \",np.str(np.round(population_mean,2)))\n",
    "print(\"population_std: \",np.str(np.round(population_std,2)))\n",
    "print(\"Z-statistic (number of standard errors that the sample mean deviates from the population mean:\")\n",
    "print(np.round(z_nino,2))\n",
    "prob=(1-stats.norm.cdf(np.abs(z_nino)))*100 ##this is a one-sided test\n",
    "print(\"Probability one-tailed test (percent):\")\n",
    "print(np.round(prob,2))"
   ]
  },
  {
   "cell_type": "code",
   "execution_count": 18,
   "metadata": {},
   "outputs": [
    {
     "name": "stdout",
     "output_type": "stream",
     "text": [
      "sample_mean - El Nino:  15.29\n",
      "population_mean:  16.34\n",
      "population_std:  1.05\n",
      "Z-statistic (number of standard errors that the sample mean deviates from the population mean):\n",
      "-0.99\n",
      "Probability - two-tailed test (percent):\n",
      "31.97\n"
     ]
    }
   ],
   "source": [
    "## What is the probability that the snowfall El Nino mean differs from the mean by chance?\n",
    "## Using Barnes equation (83) on page 15 to calculate probability using z-statistic\n",
    "sample_mean=SWE_avg_nino\n",
    "sample_N=1\n",
    "population_mean=np.mean(P_Bootstrap_mean)\n",
    "population_std=np.std(P_Bootstrap_mean)\n",
    "xstd=population_std/np.sqrt(sample_N)\n",
    "z_nino=(sample_mean-population_mean)/xstd\n",
    "print(\"sample_mean - El Nino: \",np.str(np.round(sample_mean,2)))\n",
    "print(\"population_mean: \",np.str(np.round(population_mean,2)))\n",
    "print(\"population_std: \",np.str(np.round(population_std,2)))\n",
    "print(\"Z-statistic (number of standard errors that the sample mean deviates from the population mean):\")\n",
    "print(np.round(z_nino,2))\n",
    "prob=(1-stats.norm.cdf(np.abs(z_nino)))*2*100 ##this is a two-sided test\n",
    "print(\"Probability - two-tailed test (percent):\")\n",
    "print(np.round(prob,2)) "
   ]
  },
  {
   "cell_type": "code",
   "execution_count": 19,
   "metadata": {
    "scrolled": true
   },
   "outputs": [
    {
     "name": "stdout",
     "output_type": "stream",
     "text": [
      "sample_mean - La Nina:  17.78\n",
      "population_mean:  16.34\n",
      "population_std:  1.05\n",
      "Z-statistic (number of standard errors that the sample mean deviates from the population mean:\n",
      "1.37\n",
      "Probability one-tailed test (percent):\n",
      "8.48\n"
     ]
    }
   ],
   "source": [
    "## What is the probability that the snowfall was higher during La Nina just due to chance?\n",
    "## Using Barnes equation (83) on page 15 to calculate probability using z-statistic\n",
    "sample_mean=SWE_avg_nina\n",
    "sample_N=1\n",
    "population_mean=np.mean(P_Bootstrap_mean)\n",
    "population_std=np.std(P_Bootstrap_mean)\n",
    "xstd=population_std/np.sqrt(sample_N)\n",
    "z_nina=(sample_mean-population_mean)/xstd\n",
    "\n",
    "print(\"sample_mean - La Nina: \",np.str(np.round(sample_mean,2)))\n",
    "print(\"population_mean: \",np.str(np.round(population_mean,2)))\n",
    "print(\"population_std: \",np.str(np.round(population_std,2)))\n",
    "print(\"Z-statistic (number of standard errors that the sample mean deviates from the population mean:\")\n",
    "print(np.round(z_nina,2))\n",
    "prob=(1-stats.norm.cdf(np.abs(z_nina)))*100 ##this is a one-sided test\n",
    "print(\"Probability one-tailed test (percent):\")\n",
    "print(np.round(prob,2)) "
   ]
  },
  {
   "cell_type": "code",
   "execution_count": 20,
   "metadata": {},
   "outputs": [
    {
     "name": "stdout",
     "output_type": "stream",
     "text": [
      "sample_mean - La Nina:  17.78\n",
      "population_mean:  16.34\n",
      "population_std:  1.05\n",
      "Z-statistic (number of standard errors that the sample mean deviates from the population mean):\n",
      "1.37\n",
      "Probability - two-tailed test (percent):\n",
      "16.97\n"
     ]
    }
   ],
   "source": [
    "## What is the probability that the snowfall during La Nina differed just due to chance?\n",
    "## Using Barnes equation (83) on page 15 to calculate probability using z-statistic\n",
    "sample_mean=SWE_avg_nina\n",
    "sample_N=1\n",
    "population_mean=np.mean(P_Bootstrap_mean)\n",
    "population_std=np.std(P_Bootstrap_mean)\n",
    "xstd=population_std/np.sqrt(sample_N)\n",
    "z_nina=(sample_mean-population_mean)/xstd\n",
    "\n",
    "print(\"sample_mean - La Nina: \",np.str(np.round(sample_mean,2)))\n",
    "print(\"population_mean: \",np.str(np.round(population_mean,2)))\n",
    "print(\"population_std: \",np.str(np.round(population_std,2)))\n",
    "print(\"Z-statistic (number of standard errors that the sample mean deviates from the population mean):\")\n",
    "print(np.round(z_nina,2))\n",
    "prob=(1-stats.norm.cdf(np.abs(z_nina)))*2*100 ##this is a two-sided test\n",
    "print(\"Probability - two-tailed test (percent):\")\n",
    "print(np.round(prob,2)) "
   ]
  },
  {
   "cell_type": "code",
   "execution_count": 21,
   "metadata": {},
   "outputs": [
    {
     "name": "stdout",
     "output_type": "stream",
     "text": [
      "Null Hypothesis:  ENSO snow years have the same mean as the full record.\n",
      "Ttest_indResult(statistic=-0.9419860439508277, pvalue=0.35637575995310133)\n",
      "Cannot reject the null hypthesis.\n"
     ]
    }
   ],
   "source": [
    "### Strategy #2:  Forget bootstrapping, let's use a t-test...\n",
    "## Apply a t-test to test the null hypothesis that the means of the two samples \n",
    "## are the same at the 95% confidence level (alpha=0.025, two-sided test)\n",
    "## If pvalue < alpha - reject null hypothesis.\n",
    "print('Null Hypothesis:  ENSO snow years have the same mean as the full record.')\n",
    "t=stats.ttest_ind(data[data.Nino34_anomaly_prevDec>1.0]['LovelandPass_April1SWE_inches'],data['LovelandPass_April1SWE_inches'],equal_var=False)\n",
    "print(t)\n",
    "print('Cannot reject the null hypthesis.')\n",
    "\n",
    "#### Wait a second - What is that function doing???  Let's check it with the Barnes notes."
   ]
  },
  {
   "cell_type": "code",
   "execution_count": 22,
   "metadata": {
    "scrolled": true
   },
   "outputs": [
    {
     "name": "stdout",
     "output_type": "stream",
     "text": [
      "16\n",
      "15.29375\n",
      "3.8746723651813446\n",
      "T-statistic:\n",
      "-1.04\n",
      "Probability (percent):\n",
      "84.27\n"
     ]
    }
   ],
   "source": [
    "### Always code it yourself and understand what the function is doing.  \n",
    "### Word to the wise - do not use python functions without checking them!!\n",
    "### Let's find out what stats.ttest_ind is doing - It doesn't look like it is calculating the t-statistic\n",
    "### as the difference between the sample mean and the population mean.  That calculation is below...\n",
    "\n",
    "## Calculate the t-statistic using the Barnes Notes - Compare a sample mean and a population mean.\n",
    "## Barnes Eq. (96)\n",
    "N=len(data[data.Nino34_anomaly_prevDec>1.0]['LovelandPass_April1SWE_inches'])\n",
    "print(N)\n",
    "sample_mean=np.mean(data[data.Nino34_anomaly_prevDec>1.0]['LovelandPass_April1SWE_inches'])\n",
    "print(sample_mean)\n",
    "sample_std=np.std(data[data.Nino34_anomaly_prevDec>1.0]['LovelandPass_April1SWE_inches'])\n",
    "print(sample_std)\n",
    "population_mean=np.mean(data['LovelandPass_April1SWE_inches'])\n",
    "\n",
    "## Using Barnes equation (96) to calculate probability using the t-statistic\n",
    "print(\"T-statistic:\")\n",
    "t=(sample_mean-population_mean)/(sample_std/(np.sqrt(N-1)))\n",
    "print(np.round(t,2))\n",
    "print(\"Probability (percent):\")\n",
    "prob=(1-stats.t.cdf(t,N-1))*100\n",
    "print(np.round(prob,2))"
   ]
  },
  {
   "cell_type": "code",
   "execution_count": 23,
   "metadata": {
    "scrolled": false
   },
   "outputs": [
    {
     "name": "stdout",
     "output_type": "stream",
     "text": [
      "81\n",
      "16\n",
      "16.33456790123457\n",
      "15.29375\n",
      "4.194975256885701\n",
      "3.8746723651813446\n",
      "T-statistic using Welch's t-test:\n",
      "4.1872394937055875\n",
      "0.91\n",
      "Probability (percent):\n",
      "18.9\n"
     ]
    }
   ],
   "source": [
    "## Calculate the t-statistic using the Barnes Notes - Compare two sample means.  Equation (110)\n",
    "## This is also called Welch's t-test\n",
    "## It doesn't look like the function is calculating the t-statistic using Welch's t-test!\n",
    "## as the difference between the sample mean and the population mean.  That calculation is below...\n",
    "## Guess using the two sample means test (i.e., Eq. 100) vs sample/population means test (i.e., Barnes Eq. )\n",
    "\n",
    "sampledata1=data['LovelandPass_April1SWE_inches']\n",
    "sampledata2=data[data.Nino34_anomaly_prevDec>1.0]['LovelandPass_April1SWE_inches']\n",
    "\n",
    "N1=len(sampledata1)\n",
    "N2=len(sampledata2)\n",
    "print(N1)\n",
    "print(N2)\n",
    "sample_mean1=np.mean(sampledata1)\n",
    "sample_mean2=np.mean(sampledata2)\n",
    "print(sample_mean1)\n",
    "print(sample_mean2)\n",
    "sample_std1=np.std(sampledata1)\n",
    "sample_std2=np.std(sampledata2)\n",
    "print(sample_std1)\n",
    "print(sample_std2)\n",
    "\n",
    "## Using Barnes equation (96) to calculate probability using the t-statistic\n",
    "print(\"T-statistic using Welch's t-test:\")\n",
    "s=np.sqrt((N1*sample_std1**2+N2*sample_std2**2)/(N1+N2-2))\n",
    "print(s)\n",
    "t=(sample_mean1-sample_mean2-0)/(s*np.sqrt(1/N1+1/N2))\n",
    "print(np.round(t,2))\n",
    "print(\"Probability (percent):\")\n",
    "prob=(1-stats.t.cdf(t,N-1))*100\n",
    "print(np.round(prob,2))"
   ]
  },
  {
   "cell_type": "code",
   "execution_count": 24,
   "metadata": {},
   "outputs": [
    {
     "name": "stdout",
     "output_type": "stream",
     "text": [
      "3.1753125000000026\n",
      "-1.0739988425925913\n"
     ]
    },
    {
     "data": {
      "image/png": "[encoded data removed]",
      "text/plain": [
       "<Figure size 432x288 with 1 Axes>"
      ]
     },
     "metadata": {
      "needs_background": "light"
     },
     "output_type": "display_data"
    }
   ],
   "source": [
    "### Strategy #3 (provided by Vineel Yettella)\n",
    "SWE = data['LovelandPass_April1SWE_inches']\n",
    "SWE_nino = data[data.Nino34_anomaly_prevDec>1.0]['LovelandPass_April1SWE_inches']\n",
    "\n",
    "#We start by setting up a null hypothesis H0. \n",
    "#Our H0 will be that the difference in means of the two populations that the samples came from is equal to zero.\n",
    "#We will use the bootstrap to test this null hypothesis.\n",
    "\n",
    "#We next choose a significance level for the hypothesis test\n",
    "alpha = 0.05\n",
    "\n",
    "#All hypothesis tests need a test statistic.\n",
    "#Here, we'll use the difference in sample means as the test statistic.\n",
    "#create array to hold bootstrapped test statistic values\n",
    "bootstrap_statistic = np.empty(10000)\n",
    "\n",
    "#bootstrap 10000 times\n",
    "for i in range(1,10000):\n",
    "    \n",
    "    #create a resample of SWE by sampling with replacement (same length as SWE)\n",
    "    resample_original = np.random.choice(SWE, len(SWE), replace=True)\n",
    "    \n",
    "    #create a resample of SWE_nino by sampling with replacement (same length as SWE_nino)\n",
    "    resample_nino = np.random.choice(SWE_nino, len(SWE_nino), replace=True)\n",
    "    \n",
    "    #Compute the test statistic from the resampled data, i.e., the difference in means\n",
    "    bootstrap_statistic[i] = np.mean(resample_original) - np.mean(resample_nino)\n",
    "\n",
    "#Let's plot the distribution of the test statistic\n",
    "plt.hist(bootstrap_statistic,[-5,-4,-3,-2,-1,0,1,2,3,4,5],edgecolor='black')\n",
    "plt.xlabel('Difference in sample means')\n",
    "plt.ylabel('Count')\n",
    "plt.title('Bootstrap distribution of difference in sample means')\n",
    "\n",
    "#Create 95% CI from the bootstrapped distribution. The upper limit of the CI is defined as the 97.5% percentile\n",
    "#and the lower limit as the 2.5% percentile of the boostrap distribution, so that 95% of the \n",
    "#distribution lies within the two limits\n",
    "\n",
    "CI_up = np.percentile(bootstrap_statistic, 100*(1 - alpha/2.0))\n",
    "CI_lo = np.percentile(bootstrap_statistic, 100*(alpha/2.0))\n",
    "\n",
    "print(CI_up)\n",
    "print(CI_lo)\n",
    "\n",
    "#We see that the confidence interval contains zero, so we fail to reject the null hypothesis that the difference\n",
    "#in means is equal to zero"
   ]
  },
  {
   "cell_type": "code",
   "execution_count": null,
   "metadata": {},
   "outputs": [],
   "source": []
  }
 ],
 "metadata": {
  "kernelspec": {
   "display_name": "Python (culabenv)",
   "language": "python",
   "name": "culabenv"
  },
  "language_info": {
   "codemirror_mode": {
    "name": "ipython",
    "version": 3
   },
   "file_extension": ".py",
   "mimetype": "text/x-python",
   "name": "python",
   "nbconvert_exporter": "python",
   "pygments_lexer": "ipython3",
   "version": "3.6.13"
  }
 },
 "nbformat": 4,
 "nbformat_minor": 2
}
